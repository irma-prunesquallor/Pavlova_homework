{
 "cells": [
  {
   "cell_type": "markdown",
   "metadata": {},
   "source": [
    "# Домашнее задание\n",
    "\n",
    "Переведите содержимое файла purchase_log.txt в словарь purchases вида:\n",
    "{‘1840e0b9d4’: ‘Продукты’, …}\n",
    "\n",
    "Для каждого user_id в файле visit_log.csv определите третий столбец с категорией покупки (если покупка была, сам файл visit_log.csv изменять не надо). Запишите в файл funnel.csv визиты из файла visit_log.csv, в которых были покупки с указанием категории.\n",
    "\n",
    "Учтите условия на данные:\n",
    "содержимое purchase_log.txt помещается в оперативную память компьютера\n",
    "содержимое visit_log.csv - нет; используйте только построчную обработку этого файла"
   ]
  },
  {
   "cell_type": "code",
   "execution_count": 6,
   "metadata": {},
   "outputs": [],
   "source": [
    "import json"
   ]
  },
  {
   "cell_type": "code",
   "execution_count": 35,
   "metadata": {},
   "outputs": [],
   "source": [
    "purchases_ = {}\n",
    "purchases = {}\n",
    "with open('purchase_log.txt', encoding='utf-8') as pl:\n",
    "    for line in pl:\n",
    "        line = line.strip()\n",
    "        purchases_.update(json.loads(line))\n",
    "        purchases.update({purchases_['user_id']:purchases_['category']})        \n",
    "        \n",
    "del(purchases['user_id'])\n"
   ]
  },
  {
   "cell_type": "code",
   "execution_count": 36,
   "metadata": {},
   "outputs": [],
   "source": [
    "funnel_ = []\n",
    "with open('visit_log.csv', 'r', encoding='utf-8') as visit_log:\n",
    "    for line in visit_log:\n",
    "        line_list = line.strip().split(',')\n",
    "        if line_list[0] in purchases.keys():\n",
    "            line_list.append(purchases[line_list[0]])\n",
    "            funnel_.append(line_list)\n"
   ]
  },
  {
   "cell_type": "code",
   "execution_count": 37,
   "metadata": {},
   "outputs": [],
   "source": [
    "funnel2 = []\n",
    "for row in funnel_:\n",
    "    row1 = ','.join(row)\n",
    "    funnel2.append(row1)\n"
   ]
  },
  {
   "cell_type": "code",
   "execution_count": 39,
   "metadata": {},
   "outputs": [],
   "source": [
    "funnel3 = '\\n'.join(funnel2)"
   ]
  },
  {
   "cell_type": "code",
   "execution_count": null,
   "metadata": {},
   "outputs": [],
   "source": [
    "with open('funnel.csv', 'w', encoding='cp1251') as funnel:\n",
    "    for line in funnel3:\n",
    "        funnel.write(funnel3)"
   ]
  }
 ],
 "metadata": {
  "kernelspec": {
   "display_name": "Python 3",
   "language": "python",
   "name": "python3"
  },
  "language_info": {
   "codemirror_mode": {
    "name": "ipython",
    "version": 3
   },
   "file_extension": ".py",
   "mimetype": "text/x-python",
   "name": "python",
   "nbconvert_exporter": "python",
   "pygments_lexer": "ipython3",
   "version": "3.8.5"
  }
 },
 "nbformat": 4,
 "nbformat_minor": 4
}
