{
 "cells": [
  {
   "cell_type": "markdown",
   "metadata": {},
   "source": [
    "Смоделировать игру против лотерейного автомата типа “777”. Игрок платит 1 руб., после чего выпадает случайное целое число, равномерно распределенное от 0 до 999. При некоторых значениях числа игрок получает выигрыш.\n",
    "\n",
    "777: 200 руб.<br>\n",
    "999: 100 руб.<br>\n",
    "555: 50 руб.<br>\n",
    "333: 15 руб.<br>\n",
    "111: 10 руб.<br>\n",
    "*77: 5 руб.<br>\n",
    "**7: 3 руб.<br>\n",
    "*00: 2 руб.<br>\n",
    "**0: 1 руб.\n",
    "\n",
    "Вопросы:\n",
    "\n",
    "Выгодна ли игра игроку?\n",
    "Сколько в среднем приобретает или теряет игрок за одну игру?"
   ]
  },
  {
   "cell_type": "code",
   "execution_count": 1,
   "metadata": {},
   "outputs": [],
   "source": [
    "import numpy as np"
   ]
  },
  {
   "cell_type": "code",
   "execution_count": 59,
   "metadata": {},
   "outputs": [
    {
     "name": "stdout",
     "output_type": "stream",
     "text": [
      "-0.1975576\n"
     ]
    }
   ],
   "source": [
    "trials = 10000000\n",
    "payoff = 0\n",
    "price = 1\n",
    "for i in range(trials):\n",
    "    x = np.random.randint(0, 10, 3)\n",
    "    y = x[0] * 100 + x[1] * 10 + x[2]\n",
    "    if y == 777:\n",
    "        payoff = payoff + 200\n",
    "    elif y % 100 == 77:\n",
    "        payoff = payoff + 5\n",
    "    elif y % 10 == 7:\n",
    "        payoff = payoff + 3\n",
    "    elif y == 999:\n",
    "        payoff = payoff + 100\n",
    "    elif y == 555:\n",
    "        payoff = payoff + 50\n",
    "    elif y == 333:\n",
    "        payoff = payoff + 15\n",
    "    elif y == 111:\n",
    "        payoff = payoff + 10\n",
    "    elif y % 100 == 0:\n",
    "        payoff = payoff + 2\n",
    "    elif y % 10 == 0:\n",
    "        payoff = payoff + 1\n",
    "    else:\n",
    "        pass\n",
    "result = payoff - (trials * price)     \n",
    "print(result/trials)"
   ]
  },
  {
   "cell_type": "markdown",
   "metadata": {},
   "source": [
    "Мы видим, что результат стабильно отрицательный, а значит, игра не выгодна игроку.\n",
    "В среднем за игру игрок теряет от 10 до 20 копеек."
   ]
  }
 ],
 "metadata": {
  "kernelspec": {
   "display_name": "Python 3",
   "language": "python",
   "name": "python3"
  },
  "language_info": {
   "codemirror_mode": {
    "name": "ipython",
    "version": 3
   },
   "file_extension": ".py",
   "mimetype": "text/x-python",
   "name": "python",
   "nbconvert_exporter": "python",
   "pygments_lexer": "ipython3",
   "version": "3.8.5"
  }
 },
 "nbformat": 4,
 "nbformat_minor": 4
}
