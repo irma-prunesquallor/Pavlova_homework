{
 "cells": [
  {
   "cell_type": "markdown",
   "metadata": {},
   "source": [
    "## Задание 1"
   ]
  },
  {
   "cell_type": "code",
   "execution_count": 11,
   "metadata": {},
   "outputs": [
    {
     "name": "stdout",
     "output_type": "stream",
     "text": [
      "Введите фразу 1: fhjdf\n",
      "Введите фразу 2: adjvhljbnjn\n",
      "Фраза 2 длинее фразы 1\n"
     ]
    }
   ],
   "source": [
    "phrase_1 = str(input('Введите фразу 1: '))\n",
    "phrase_2 = str(input('Введите фразу 2: '))\n",
    "if len(phrase_1) > len(phrase_2):\n",
    "    print('Фраза 1 длинее фразы 2')\n",
    "elif len(phrase_1) < len(phrase_2):\n",
    "    print('Фраза 2 длинее фразы 1')\n",
    "else:\n",
    "    print('Фразы равной длины')"
   ]
  },
  {
   "cell_type": "markdown",
   "metadata": {},
   "source": [
    "## Задание 2"
   ]
  },
  {
   "cell_type": "code",
   "execution_count": 5,
   "metadata": {},
   "outputs": [
    {
     "name": "stdout",
     "output_type": "stream",
     "text": [
      "Введите год: 2013\n",
      "Обычный год\n"
     ]
    }
   ],
   "source": [
    "year = int(input('Введите год: '))\n",
    "if len(str(year)) != 4: ## нет идей, как по-другому проверить четырехзначность вводимого числа\n",
    "    print('Введите год в формате четырехзначного числа')\n",
    "elif (year % 400 == 0) or (year % 4 == 0 and year % 100 != 0):\n",
    "    print('Високосный год')\n",
    "else:\n",
    "    print('Обычный год')"
   ]
  },
  {
   "cell_type": "markdown",
   "metadata": {},
   "source": [
    "## Задание 3"
   ]
  },
  {
   "cell_type": "code",
   "execution_count": 30,
   "metadata": {},
   "outputs": [
    {
     "name": "stdout",
     "output_type": "stream",
     "text": [
      "Введите день: 08\n",
      "Введите месяц: Март\n",
      "Ваш знак зодиака: Рыбы\n"
     ]
    }
   ],
   "source": [
    "day_of_birth = int(input('Введите день: '))\n",
    "month_of_birth = input('Введите месяц: ')\n",
    "if (month_of_birth == 'Март' and day_of_birth >= 21 and day_of_birth <= 31) or (month_of_birth == 'Апрель' and day_of_birth <= 20):\n",
    "    print('Ваш знак зодиака: Овен')\n",
    "elif (month_of_birth == 'Апрель' and day_of_birth >= 21 and day_of_birth <= 30) or (month_of_birth == 'Май' and day_of_birth <= 21):\n",
    "    print('Ваш знак зодиака: Телец')\n",
    "elif (month_of_birth == 'Май' and day_of_birth >= 22 and day_of_birth <= 31) or (month_of_birth == 'Июнь' and day_of_birth <= 21):\n",
    "    print('Ваш знак зодиака: Близнецы')\n",
    "elif (month_of_birth == 'Июнь' and day_of_birth >= 22 and day_of_birth <= 30) or (month_of_birth == 'Июль' and day_of_birth <= 22):\n",
    "    print('Ваш знак зодиака: Рак')\n",
    "elif (month_of_birth == 'Июль' and day_of_birth >= 23 and day_of_birth <= 31) or (month_of_birth == 'Август' and day_of_birth <= 21):\n",
    "    print('Ваш знак зодиака: Лев')\n",
    "elif (month_of_birth == 'Август' and day_of_birth >= 22 and day_of_birth <= 31) or (month_of_birth == 'Сентябрь' and day_of_birth <= 23):\n",
    "    print('Ваш знак зодиака: Дева')\n",
    "elif (month_of_birth == 'Сентябрь' and day_of_birth >= 24 and day_of_birth <= 30) or (month_of_birth == 'Октябрь' and day_of_birth <= 23):\n",
    "    print('Ваш знак зодиака: Весы')\n",
    "elif (month_of_birth == 'Октябрь' and day_of_birth >= 24 and day_of_birth <= 31) or (month_of_birth == 'Ноябрь' and day_of_birth <= 22):\n",
    "    print('Ваш знак зодиака: Скорпион')\n",
    "elif (month_of_birth == 'Ноябрь' and day_of_birth >= 23 and day_of_birth <= 30) or (month_of_birth == 'Декабрь' and day_of_birth <= 22):\n",
    "    print('Ваш знак зодиака: Стрелец')\n",
    "elif (month_of_birth == 'Декабрь' and day_of_birth >= 23 and day_of_birth <= 31) or (month_of_birth == 'Январь' and day_of_birth <= 20):\n",
    "    print('Ваш знак зодиака: Козерог')\n",
    "elif (month_of_birth == 'Январь' and day_of_birth >= 21 and day_of_birth <= 31) or (month_of_birth == 'Февраль' and day_of_birth <= 19):\n",
    "    print('Ваш знак зодиака: Водолей')\n",
    "elif (month_of_birth == 'Февраль' and day_of_birth >= 20 and day_of_birth <= 29) or (month_of_birth == 'Март' and day_of_birth <= 20):\n",
    "    print('Ваш знак зодиака: Рыбы')\n",
    "else:\n",
    "    print('Ошибка ввода')"
   ]
  },
  {
   "cell_type": "markdown",
   "metadata": {},
   "source": [
    "# Задание 4"
   ]
  },
  {
   "cell_type": "code",
   "execution_count": 9,
   "metadata": {},
   "outputs": [
    {
     "name": "stdout",
     "output_type": "stream",
     "text": [
      "Упаковка для лыж\n"
     ]
    }
   ],
   "source": [
    "width = 45\n",
    "length = 205\n",
    "height = 45\n",
    "if length > 200:\n",
    "    print('Упаковка для лыж')\n",
    "elif width < 15 and length < 15 and height < 15:\n",
    "    print('Коробка № 1')\n",
    "elif (width > 15 and width < 50) or (length > 15 and length < 50) or (height > 15 and height < 50):\n",
    "    print('Коробка № 2') \n",
    "else:\n",
    "    print('Стандартная коробка № 3')"
   ]
  }
 ],
 "metadata": {
  "kernelspec": {
   "display_name": "Python 3",
   "language": "python",
   "name": "python3"
  },
  "language_info": {
   "codemirror_mode": {
    "name": "ipython",
    "version": 3
   },
   "file_extension": ".py",
   "mimetype": "text/x-python",
   "name": "python",
   "nbconvert_exporter": "python",
   "pygments_lexer": "ipython3",
   "version": "3.8.5"
  }
 },
 "nbformat": 4,
 "nbformat_minor": 4
}
