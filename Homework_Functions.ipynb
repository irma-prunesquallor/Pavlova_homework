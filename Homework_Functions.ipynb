{
 "cells": [
  {
   "cell_type": "markdown",
   "metadata": {},
   "source": [
    "# Задание 1"
   ]
  },
  {
   "cell_type": "code",
   "execution_count": 2,
   "metadata": {},
   "outputs": [],
   "source": [
    "documents = [\n",
    " {'type': 'passport', 'number': '2207 876234', 'name': 'Василий Гупкин'},\n",
    " {'type': 'invoice', 'number': '11-2', 'name': 'Геннадий Покемонов'},\n",
    " {'type': 'insurance', 'number': '10006', 'name': 'Аристарх Павлов'}\n",
    "]\n",
    "\n",
    "directories = {\n",
    " '1': ['2207 876234', '11-2'],\n",
    " '2': ['10006'],\n",
    " '3': []\n",
    "}"
   ]
  },
  {
   "cell_type": "markdown",
   "metadata": {},
   "source": [
    "# Пункт 1"
   ]
  },
  {
   "cell_type": "code",
   "execution_count": 11,
   "metadata": {},
   "outputs": [
    {
     "name": "stdout",
     "output_type": "stream",
     "text": [
      "Введите номер документа: 10006\n"
     ]
    },
    {
     "data": {
      "text/plain": [
       "'Владелец документа: Аристарх Павлов'"
      ]
     },
     "execution_count": 11,
     "metadata": {},
     "output_type": "execute_result"
    }
   ],
   "source": [
    "def doc_owner(docs):\n",
    "    \"\"\"\n",
    "    Функция 'p' из пункта 1 задания, возвращает владельца документа по номеру документа\n",
    "    \"\"\"\n",
    "    input_doc_number = input('Введите номер документа: ')\n",
    "    i = 0\n",
    "    while i <= len(docs):\n",
    "        for doc in docs:\n",
    "            if doc['number'] == input_doc_number:\n",
    "                return 'Владелец документа: '+ doc['name']                \n",
    "            else:\n",
    "                i += 1\n",
    "    print('Документ не найден в базе')\n",
    "    \n",
    "    \n",
    "doc_owner(documents)"
   ]
  },
  {
   "cell_type": "markdown",
   "metadata": {},
   "source": [
    "# Пункт 2"
   ]
  },
  {
   "cell_type": "code",
   "execution_count": 4,
   "metadata": {},
   "outputs": [
    {
     "name": "stdout",
     "output_type": "stream",
     "text": [
      "Введите номер документа: 11-2\n"
     ]
    },
    {
     "data": {
      "text/plain": [
       "'Документ хранится на полке: 1'"
      ]
     },
     "execution_count": 4,
     "metadata": {},
     "output_type": "execute_result"
    }
   ],
   "source": [
    "def doc_place(directories):\n",
    "    \"\"\"\n",
    "    Функция 's' из пункта 2 задания, возвращает полку по номеру документа\n",
    "    \"\"\"\n",
    "    input_doc_number = input('Введите номер документа: ')\n",
    "    i = 0\n",
    "    while i <= len(directories):    \n",
    "        for key, value in directories.items():\n",
    "            if input_doc_number in value:\n",
    "                return 'Документ хранится на полке: '+ key\n",
    "            else:\n",
    "                i += 1\n",
    "    print('Документ не найден в базе')\n",
    "        \n",
    "\n",
    "doc_place(directories)"
   ]
  },
  {
   "cell_type": "markdown",
   "metadata": {},
   "source": [
    "# Пункт 3"
   ]
  },
  {
   "cell_type": "code",
   "execution_count": 25,
   "metadata": {},
   "outputs": [
    {
     "name": "stdout",
     "output_type": "stream",
     "text": [
      "№:  2207 876234 , тип:  passport , владелец:  Василий Гупкин , полка:  1\n",
      "№:  11-2 , тип:  invoice , владелец:  Геннадий Покемонов , полка:  1\n",
      "№:  10006 , тип:  insurance , владелец:  Аристарх Павлов , полка:  2\n"
     ]
    }
   ],
   "source": [
    "def full_inform(documents, directories):\n",
    "    \"\"\"\n",
    "    Функция 'l' из пункта 3 задания, возвращает полную информацию\n",
    "    \"\"\"\n",
    "    for doc in documents:\n",
    "        for key, value in directories.items():\n",
    "            if doc['number'] in value: \n",
    "                print('№: ', doc['number'], ', тип: ', doc['type'], ', владелец: ', doc['name'], ', полка: ', key) \n",
    "                \n",
    "                \n",
    "full_inform(documents, directories)"
   ]
  },
  {
   "cell_type": "markdown",
   "metadata": {},
   "source": [
    "# Пункт 4"
   ]
  },
  {
   "cell_type": "code",
   "execution_count": 7,
   "metadata": {},
   "outputs": [
    {
     "name": "stdout",
     "output_type": "stream",
     "text": [
      "Введите номер полки: 6\n"
     ]
    },
    {
     "data": {
      "text/plain": [
       "'Полка добавлена. Текущий перечень полок: 1, 2, 3, 6'"
      ]
     },
     "execution_count": 7,
     "metadata": {},
     "output_type": "execute_result"
    }
   ],
   "source": [
    "def add_directory(directories):\n",
    "    \"\"\"\n",
    "    Функция 'ads' из пункта 4 задания, проверяет наличие полки с номером и добавляет только новую полку\n",
    "    \"\"\"\n",
    "    input_dir_number = input('Введите номер полки: ')\n",
    "    if input_dir_number in directories:\n",
    "        current_dirs = list(directories.keys())\n",
    "        return 'Такая полка уже существует. Текущий перечень полок: ' + ', '.join(current_dirs)\n",
    "    else:\n",
    "        directories[input_dir_number] = []\n",
    "        current_dirs = list(directories.keys())\n",
    "        return 'Полка добавлена. Текущий перечень полок: ' + ', '.join(current_dirs)\n",
    "    \n",
    "add_directory(directories)"
   ]
  },
  {
   "cell_type": "markdown",
   "metadata": {},
   "source": [
    "# Пункт 5"
   ]
  },
  {
   "cell_type": "code",
   "execution_count": 8,
   "metadata": {},
   "outputs": [
    {
     "name": "stdout",
     "output_type": "stream",
     "text": [
      "Введите номер полки: 6\n"
     ]
    },
    {
     "data": {
      "text/plain": [
       "'Полка удалена. Текущий перечень полок: 1, 2, 3'"
      ]
     },
     "execution_count": 8,
     "metadata": {},
     "output_type": "execute_result"
    }
   ],
   "source": [
    "def del_directory(directories):\n",
    "    \"\"\"\n",
    "    Функция 'ds' из пункта 5 задания, удаляет полку, если она существует и пустая\n",
    "    \"\"\"\n",
    "    input_dir_number = input('Введите номер полки: ')\n",
    "    current_dirs = list(directories.keys())\n",
    "    if input_dir_number in directories and directories[input_dir_number] == []:\n",
    "        del(directories[input_dir_number])\n",
    "        current_dirs = list(directories.keys())\n",
    "        return 'Полка удалена. Текущий перечень полок: ' + ', '.join(current_dirs)\n",
    "    elif input_dir_number in directories and directories[input_dir_number] != []:\n",
    "        return 'На полке есть документы, удалите их перед удалением полки. Текущий перечень полок: ' + ', '.join(current_dirs)\n",
    "    else:\n",
    "        return 'Такой полки не существует. Текущий перечень полок: ' + ', '.join(current_dirs)\n",
    "    \n",
    "del_directory(directories)"
   ]
  },
  {
   "cell_type": "markdown",
   "metadata": {},
   "source": [
    "# Общая функция"
   ]
  },
  {
   "cell_type": "code",
   "execution_count": 27,
   "metadata": {},
   "outputs": [
    {
     "name": "stdout",
     "output_type": "stream",
     "text": [
      "Введите команду: p\n",
      "Введите номер документа: 10006\n",
      "Владелец документа: Аристарх Павлов\n",
      "Введите команду: s\n",
      "Введите номер документа: 11-2\n",
      "Документ хранится на полке: 1\n",
      "Введите команду: l\n",
      "№:  2207 876234 , тип:  passport , владелец:  Василий Гупкин , полка:  1\n",
      "№:  11-2 , тип:  invoice , владелец:  Геннадий Покемонов , полка:  1\n",
      "№:  10006 , тип:  insurance , владелец:  Аристарх Павлов , полка:  2\n",
      "None\n",
      "Введите команду: ads\n",
      "Введите номер полки: 7\n",
      "Полка добавлена. Текущий перечень полок: 1, 2, 3, 7\n",
      "Введите команду: ds\n",
      "Введите номер полки: 7\n",
      "Полка удалена. Текущий перечень полок: 1, 2, 3\n",
      "Введите команду: q\n",
      "Работа программы закончена\n"
     ]
    }
   ],
   "source": [
    "def main(documents, directories):\n",
    "    while True:\n",
    "        user_cmd = input(\"Введите команду: \")\n",
    "        if user_cmd == 'p':\n",
    "            print(doc_owner(documents))\n",
    "        elif user_cmd == 's':\n",
    "            print(doc_place(directories))\n",
    "        elif user_cmd == 'l':\n",
    "            print(full_inform(documents, directories))\n",
    "        elif user_cmd == 'ads':\n",
    "            print(add_directory(directories))\n",
    "        elif user_cmd == 'ds':\n",
    "            print(del_directory(directories))\n",
    "        elif user_cmd == 'q':\n",
    "            print('Работа программы закончена')\n",
    "            break\n",
    "        else:\n",
    "            print('Неизвестная команда')\n",
    "        \n",
    "\n",
    "main(documents, directories)\n",
    "    "
   ]
  }
 ],
 "metadata": {
  "kernelspec": {
   "display_name": "Python 3",
   "language": "python",
   "name": "python3"
  },
  "language_info": {
   "codemirror_mode": {
    "name": "ipython",
    "version": 3
   },
   "file_extension": ".py",
   "mimetype": "text/x-python",
   "name": "python",
   "nbconvert_exporter": "python",
   "pygments_lexer": "ipython3",
   "version": "3.8.5"
  }
 },
 "nbformat": 4,
 "nbformat_minor": 4
}
