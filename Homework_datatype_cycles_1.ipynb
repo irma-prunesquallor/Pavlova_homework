{
 "cells": [
  {
   "cell_type": "markdown",
   "metadata": {},
   "source": [
    "# Задание 1\n"
   ]
  },
  {
   "cell_type": "code",
   "execution_count": 26,
   "metadata": {},
   "outputs": [
    {
     "name": "stdout",
     "output_type": "stream",
     "text": [
      "es\n"
     ]
    }
   ],
   "source": [
    "word = 'test'\n",
    "middle = int(len(word)/2)\n",
    "if len(word) % 2 == 0:\n",
    "    print(word[(middle - 1):(middle + 1)])\n",
    "else:\n",
    "    print(word[middle])"
   ]
  },
  {
   "cell_type": "markdown",
   "metadata": {},
   "source": [
    "# Задание 2"
   ]
  },
  {
   "cell_type": "code",
   "execution_count": 33,
   "metadata": {},
   "outputs": [
    {
     "name": "stdout",
     "output_type": "stream",
     "text": [
      "Введите число: 5\n",
      "Введите число: 10\n",
      "Введите число: 15\n",
      "Введите число: 34\n",
      "Введите число: 56\n",
      "Введите число: 0\n",
      "120\n"
     ]
    }
   ],
   "source": [
    "number = int(input('Введите число: '))\n",
    "sum_ = 0\n",
    "while number != 0:\n",
    "    sum_ = sum_ + number\n",
    "    number = int(input('Введите число: '))\n",
    "print(sum_)"
   ]
  },
  {
   "cell_type": "markdown",
   "metadata": {},
   "source": [
    "# Задание 3"
   ]
  },
  {
   "cell_type": "code",
   "execution_count": 48,
   "metadata": {},
   "outputs": [
    {
     "name": "stdout",
     "output_type": "stream",
     "text": [
      "Идеальные пары: \n",
      "Alex и Emma\n",
      "Arthur и Kate\n",
      "John и Kira\n",
      "Peter и Liza\n",
      "Richard и Trisha\n"
     ]
    }
   ],
   "source": [
    "boys = ['Peter', 'Alex', 'John', 'Arthur', 'Richard']\n",
    "girls = ['Kate', 'Liza', 'Kira', 'Emma', 'Trisha']\n",
    "import copy\n",
    "if len(boys) == len(girls):\n",
    "    boys_sorted = sorted(copy.copy(boys))\n",
    "    girls_sorted = sorted(copy.copy(girls))\n",
    "    print('Идеальные пары: ')\n",
    "    i = 0\n",
    "    for name in boys_sorted:\n",
    "        print(name, 'и', girls_sorted[i])\n",
    "        i += 1\n",
    "else:\n",
    "    print('Внимание, кто-то может остаться без пары!')\n"
   ]
  },
  {
   "cell_type": "markdown",
   "metadata": {},
   "source": [
    "# Задание 4"
   ]
  },
  {
   "cell_type": "code",
   "execution_count": 77,
   "metadata": {},
   "outputs": [
    {
     "name": "stdout",
     "output_type": "stream",
     "text": [
      "Средняя температура в странах: \n",
      "Thailand - 23.9 C\n",
      "Germany - 13.8 C\n",
      "Russia - 3.7 C\n",
      "Poland - 12.0 C\n"
     ]
    }
   ],
   "source": [
    "countries_temperature = [\n",
    "    ['Thailand', [75.2, 77, 78.8, 73.4, 68, 75.2, 77]],\n",
    "    ['Germany', [57.2, 55.4, 59, 59, 53.6]],\n",
    "    ['Russia', [35.6, 37.4, 39.2, 41, 42.8, 39.2, 35.6]],\n",
    "    ['Poland', [50, 50, 53.6, 57.2, 55.4, 55.4]]\n",
    "]\n",
    "print('Средняя температура в странах: ')\n",
    "i = 0\n",
    "for country in countries_temperature:\n",
    "    observations_number = len(countries_temperature[i][1])\n",
    "    sum_ = 0\n",
    "    j = 0\n",
    "    while j < observations_number:\n",
    "        sum_ = sum_ + countries_temperature[i][1][j]\n",
    "        j += 1\n",
    "    average = round((sum_/observations_number - 32)*5/9, 1)\n",
    "    i += 1\n",
    "    print(country[0], '-', average, 'C')"
   ]
  }
 ],
 "metadata": {
  "kernelspec": {
   "display_name": "Python 3",
   "language": "python",
   "name": "python3"
  },
  "language_info": {
   "codemirror_mode": {
    "name": "ipython",
    "version": 3
   },
   "file_extension": ".py",
   "mimetype": "text/x-python",
   "name": "python",
   "nbconvert_exporter": "python",
   "pygments_lexer": "ipython3",
   "version": "3.8.5"
  }
 },
 "nbformat": 4,
 "nbformat_minor": 4
}
